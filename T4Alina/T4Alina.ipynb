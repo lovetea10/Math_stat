{
  "nbformat": 4,
  "nbformat_minor": 0,
  "metadata": {
    "colab": {
      "provenance": []
    },
    "kernelspec": {
      "name": "python3",
      "display_name": "Python 3"
    },
    "language_info": {
      "name": "python"
    }
  },
  "cells": [
    {
      "cell_type": "code",
      "execution_count": 1,
      "metadata": {
        "id": "tz54oNVPhaN-"
      },
      "outputs": [],
      "source": [
        "import numpy as np\n",
        "import matplotlib.pyplot as plt\n",
        "from scipy import stats"
      ]
    },
    {
      "cell_type": "code",
      "source": [
        "n = 100\n",
        "Teta = 10\n",
        "B = 0.95\n",
        "sample = np.random.uniform(Teta, 2*Teta, size = n)\n",
        "sample.sort()\n",
        "print(\"Выборка объема 100\")\n",
        "print(sample)"
      ],
      "metadata": {
        "colab": {
          "base_uri": "https://localhost:8080/"
        },
        "id": "cWPwx3IUhjN3",
        "outputId": "d2dcfc8a-fcf8-4611-cf8e-693948994c7d"
      },
      "execution_count": 2,
      "outputs": [
        {
          "output_type": "stream",
          "name": "stdout",
          "text": [
            "Выборка объема 100\n",
            "[10.11542831 10.1402548  10.25341255 10.46831507 10.52420822 10.54435044\n",
            " 10.55567795 10.58395246 10.78766453 10.7949167  10.86334387 10.90254897\n",
            " 10.92088504 10.92611118 11.05373961 11.08689076 11.29318345 11.53591526\n",
            " 11.75711326 11.81077271 11.86885649 11.99981453 12.04477594 12.21622473\n",
            " 12.235819   12.30586911 12.38854989 12.42871436 12.67464838 12.71918176\n",
            " 12.86917855 12.9417065  12.94865075 13.02786713 13.07171532 13.11695225\n",
            " 13.18872764 13.21376215 13.28406833 13.32380491 13.4865918  13.52133458\n",
            " 13.66398886 13.71790173 13.91811682 13.97010597 13.98209982 14.02285988\n",
            " 14.60016784 14.7169264  14.84436113 14.86797302 14.90561792 14.91564754\n",
            " 14.97488987 15.05297382 15.14107449 15.15828131 15.25151569 15.36893838\n",
            " 15.42801837 15.75414502 15.83371868 16.03898029 16.15727167 16.19516925\n",
            " 16.28505209 16.29804076 16.43443346 16.61204509 16.89591187 16.94852296\n",
            " 17.02217382 17.06673606 17.24988996 17.29645637 17.31128918 17.59488339\n",
            " 17.63045267 17.63878214 17.98820708 18.14647232 18.61318107 18.63250829\n",
            " 18.76448928 18.89361052 18.92394064 19.06445652 19.08859183 19.11500152\n",
            " 19.20156681 19.34944962 19.47297031 19.49464251 19.53541659 19.67915452\n",
            " 19.74389963 19.81300433 19.8702813  19.96329752]\n"
          ]
        }
      ]
    },
    {
      "cell_type": "code",
      "source": [
        "a = (max(sample))/(((1+B)/2)**(1/n)+1)\n",
        "b = (max(sample))/(((1-B)/2)**(1/n)+1)\n",
        "L_asympt_confidence_interval = b-a\n",
        "print(f\"asympt_confidence_interval ({a},{b})\")\n"
      ],
      "metadata": {
        "colab": {
          "base_uri": "https://localhost:8080/"
        },
        "id": "e3BzAYHrhm_z",
        "outputId": "c215a623-9f24-49b2-9eb8-26183efbe2b6"
      },
      "execution_count": 26,
      "outputs": [
        {
          "output_type": "stream",
          "name": "stdout",
          "text": [
            "asympt_confidence_interval (9.826667113385087,10.006626785845492)\n"
          ]
        }
      ]
    },
    {
      "cell_type": "code",
      "source": [
        "a = -2.94*(((7/3)*Teta**-(9/4)*Teta)/n)**(1/2) + Teta\n",
        "b = 2.94*(((7/3)*Teta**-(9/4)*Teta)/n)**(1/2) + Teta\n",
        "L_exact_confidence_interval = b-a\n",
        "print(f\"exact_confidence_interval ({a},{b})\")"
      ],
      "metadata": {
        "colab": {
          "base_uri": "https://localhost:8080/"
        },
        "id": "0NB_kGPyhpzt",
        "outputId": "5ad14e87-409e-46fe-ad68-220ef419328f"
      },
      "execution_count": 27,
      "outputs": [
        {
          "output_type": "stream",
          "name": "stdout",
          "text": [
            "exact_confidence_interval (9.89350340482922,10.10649659517078)\n"
          ]
        }
      ]
    },
    {
      "cell_type": "code",
      "source": [
        "Teta_1 = (2/3)*np.mean(sample)\n",
        "Teta_2 = (1/2)*max(sample)\n",
        "print (Teta_1, Teta_2)"
      ],
      "metadata": {
        "colab": {
          "base_uri": "https://localhost:8080/"
        },
        "id": "Tg7XJfEehslb",
        "outputId": "43608f1b-a328-4b6d-d148-a1874a801bf8"
      },
      "execution_count": 5,
      "outputs": [
        {
          "output_type": "stream",
          "name": "stdout",
          "text": [
            "9.852767033677878 9.981648758309271\n"
          ]
        }
      ]
    },
    {
      "cell_type": "code",
      "source": [
        "N = 10000\n",
        "Teta = 10\n",
        "a = Teta\n",
        "b = 2*Teta\n",
        "all_samples = []\n",
        "all_tetas = []\n",
        "for _ in range(N):\n",
        "  sample_ = np.random.uniform(Teta_1, 2*Teta_1, n)\n",
        "  teta_ = (2/3)*np.mean(sample_)\n",
        "  all_samples.append(sample_)\n",
        "  all_tetas.append(teta_)\n",
        "all_samples = np.array(all_samples)\n",
        "all_tetas = np.array(all_tetas)\n",
        "print(all_samples)\n",
        "print(all_samples.shape)\n"
      ],
      "metadata": {
        "colab": {
          "base_uri": "https://localhost:8080/"
        },
        "id": "hJZkxCrXhu0w",
        "outputId": "f24121be-c23b-4318-d87c-4de641c77463"
      },
      "execution_count": 22,
      "outputs": [
        {
          "output_type": "stream",
          "name": "stdout",
          "text": [
            "[[19.49038491 13.9560275  14.72208687 ... 13.29966257 14.37353731\n",
            "  19.1286144 ]\n",
            " [15.1102189  18.86706417 16.72507347 ... 14.44553584 11.81945194\n",
            "  12.69758541]\n",
            " [10.43935985 19.36698232 17.25683559 ... 17.30609732 11.34736915\n",
            "  15.21869695]\n",
            " ...\n",
            " [10.96192825 11.36507833 16.1183936  ...  9.8617519  14.41811924\n",
            "  13.60594413]\n",
            " [18.86915589 19.00057036 15.02009342 ... 11.72598408 10.63620386\n",
            "  10.48720915]\n",
            " [15.12389004 13.68548036 19.27747692 ... 11.89872697 19.20002419\n",
            "  11.83816547]]\n",
            "(10000, 100)\n"
          ]
        }
      ]
    },
    {
      "cell_type": "code",
      "source": [
        "print(all_tetas)\n",
        "print(all_tetas.shape)"
      ],
      "metadata": {
        "colab": {
          "base_uri": "https://localhost:8080/"
        },
        "id": "pzeZsHXahxLz",
        "outputId": "89efa0aa-fbf1-4b0c-95bd-3568f703fe63"
      },
      "execution_count": 23,
      "outputs": [
        {
          "output_type": "stream",
          "name": "stdout",
          "text": [
            "[ 9.73418862  9.81859497  9.81390798 ...  9.89103373 10.14226863\n",
            " 10.06016973]\n",
            "(10000,)\n"
          ]
        }
      ]
    },
    {
      "cell_type": "code",
      "source": [
        "all_tetas.sort()\n",
        "all_tetas"
      ],
      "metadata": {
        "colab": {
          "base_uri": "https://localhost:8080/"
        },
        "id": "rgVnh0ljtf21",
        "outputId": "4afe5e73-b626-4b5c-ac36-a4eaae9b22ec"
      },
      "execution_count": 24,
      "outputs": [
        {
          "output_type": "execute_result",
          "data": {
            "text/plain": [
              "array([ 9.20640971,  9.21951708,  9.22442768, ..., 10.46792165,\n",
              "       10.50538064, 10.50757393])"
            ]
          },
          "metadata": {},
          "execution_count": 24
        }
      ]
    },
    {
      "cell_type": "code",
      "source": [
        "K1 = int(N*(1-B)/2)\n",
        "K2 = int(N*(1+B)/2)\n",
        "parametric_bootstrap_interval = (all_tetas[K1], all_tetas[K2])\n",
        "L_parametric_bootstrap_interval = all_tetas[K2]-all_tetas[K1]\n",
        "parametric_bootstrap_interval"
      ],
      "metadata": {
        "colab": {
          "base_uri": "https://localhost:8080/"
        },
        "id": "hSMLxo67tr6Z",
        "outputId": "6ec915d8-b7bf-4a42-d416-9b0766edc470"
      },
      "execution_count": 28,
      "outputs": [
        {
          "output_type": "execute_result",
          "data": {
            "text/plain": [
              "(9.47584824768036, 10.224993630212973)"
            ]
          },
          "metadata": {},
          "execution_count": 28
        }
      ]
    },
    {
      "cell_type": "code",
      "source": [
        "L_min_interval = min(L_exact_confidence_interval, L_asympt_confidence_interval, L_parametric_bootstrap_interval)\n",
        "L_max_interval = max(L_exact_confidence_interval, L_asympt_confidence_interval, L_parametric_bootstrap_interval)\n",
        "print(f\"Длина точного доверительного интервала: {L_exact_confidence_interval},\\n Длина асимптотического доверительного интервала: {L_asympt_confidence_interval},\\n \"\n",
        "f\"Длина бутстраповского доверительного интервала: {L_parametric_bootstrap_interval},\\n Макс. длина интервала: {L_max_interval},\\n Мин. длина интервала: {L_min_interval}.\\n\")"
      ],
      "metadata": {
        "colab": {
          "base_uri": "https://localhost:8080/"
        },
        "id": "QNTXd1gqug18",
        "outputId": "101b4d24-e768-4941-b5b9-dea89b2a61d8"
      },
      "execution_count": 39,
      "outputs": [
        {
          "output_type": "stream",
          "name": "stdout",
          "text": [
            "Длина точного доверительного интервала: 0.21299319034156028,\n",
            " Длина асимптотического доверительного интервала: 0.17995967246040578,\n",
            " Длина бутстраповского доверительного интервала: 0.7491453825326122,\n",
            " Макс. длина интервала: 0.7491453825326122,\n",
            " Мин. длина интервала: 0.17995967246040578.\n",
            "\n"
          ]
        }
      ]
    },
    {
      "cell_type": "code",
      "source": [],
      "metadata": {
        "id": "IueyapKK-3hf"
      },
      "execution_count": null,
      "outputs": []
    }
  ]
}