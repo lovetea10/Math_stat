{
  "nbformat": 4,
  "nbformat_minor": 0,
  "metadata": {
    "colab": {
      "provenance": []
    },
    "kernelspec": {
      "name": "python3",
      "display_name": "Python 3"
    },
    "language_info": {
      "name": "python"
    }
  },
  "cells": [
    {
      "cell_type": "code",
      "execution_count": 2,
      "metadata": {
        "id": "K1d4dYSmtNpw"
      },
      "outputs": [],
      "source": [
        "import numpy as np\n",
        "from scipy.stats import chi2, norm\n",
        "from scipy.optimize import minimize\n",
        "import pandas as pd\n",
        "from matplotlib import pyplot as plt\n",
        "from matplotlib import patches\n",
        "from tqdm.notebook import tqdm\n",
        "from statsmodels.distributions.empirical_distribution import ECDF"
      ]
    },
    {
      "cell_type": "code",
      "source": [
        "PRECISION = 3 # 3 цифры после запятой"
      ],
      "metadata": {
        "id": "iClcgofRtnL8"
      },
      "execution_count": 15,
      "outputs": []
    },
    {
      "cell_type": "code",
      "source": [
        "#T9 A) с помощью критерия X^2"
      ],
      "metadata": {
        "id": "J1Hf9F0BwwBS"
      },
      "execution_count": null,
      "outputs": []
    },
    {
      "cell_type": "code",
      "execution_count": 16,
      "metadata": {
        "id": "5cdc5bd2-bd7f-466f-8d9c-f500d4f749a3",
        "outputId": "fee2b76e-2f98-475f-d5d5-5701aed67a3b",
        "colab": {
          "base_uri": "https://localhost:8080/"
        }
      },
      "outputs": [
        {
          "output_type": "stream",
          "name": "stdout",
          "text": [
            "p-value(delta > 18.4 | H_0) = 0.031\n"
          ]
        }
      ],
      "source": [
        "delta_est = 18.4\n",
        "k = 9\n",
        "print(f'p-value(delta > {np.round(delta_est, PRECISION)} | H_0) = {np.round(chi2(k).sf(delta_est), PRECISION)}')"
      ]
    },
    {
      "cell_type": "code",
      "source": [
        "#T9 A) с помощью критерия Колмогорова"
      ],
      "metadata": {
        "id": "CSEIrMOkx1aj"
      },
      "execution_count": null,
      "outputs": []
    },
    {
      "cell_type": "code",
      "source": [
        "class Kolmagorov:\n",
        "    def __init__(self, accuracy=int(1e6)):\n",
        "        self.accuracy = accuracy\n",
        "\n",
        "    def cdf(self, x):\n",
        "        a = 0\n",
        "        for i in range(1, self.accuracy + 1):\n",
        "            a += (-1)**i * np.exp(-2 * i**2 * x**2)\n",
        "        return 1 + 2*a\n",
        "\n",
        "    def sf(self, x):\n",
        "        return 1 - self.cdf(x)\n",
        "delta_est = 1.43\n",
        "print(f'p-value(delta > {np.round(delta_est, PRECISION)} | H_0) = {np.round(Kolmagorov().sf(delta_est), PRECISION)}')\n"
      ],
      "metadata": {
        "colab": {
          "base_uri": "https://localhost:8080/"
        },
        "id": "WseK6E9FtnVq",
        "outputId": "ee46834c-e707-4cf2-e6f0-5984a23157ce"
      },
      "execution_count": 21,
      "outputs": [
        {
          "output_type": "stream",
          "name": "stdout",
          "text": [
            "p-value(delta > 1.43 | H_0) = 0.033\n"
          ]
        }
      ]
    }
  ]
}