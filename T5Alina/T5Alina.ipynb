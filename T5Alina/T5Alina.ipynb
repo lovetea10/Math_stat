{
  "nbformat": 4,
  "nbformat_minor": 0,
  "metadata": {
    "colab": {
      "provenance": []
    },
    "kernelspec": {
      "name": "python3",
      "display_name": "Python 3"
    },
    "language_info": {
      "name": "python"
    }
  },
  "cells": [
    {
      "cell_type": "code",
      "execution_count": 66,
      "metadata": {
        "id": "tz54oNVPhaN-"
      },
      "outputs": [],
      "source": [
        "import numpy as np\n",
        "import matplotlib.pyplot as plt"
      ]
    },
    {
      "cell_type": "code",
      "source": [
        "n = 100\n",
        "Teta = 4\n",
        "B = 0.95\n",
        "etta = np.random.uniform(0,1,n)\n",
        "sample = (1-etta)**(1/(1-Teta))\n",
        "print(sample)"
      ],
      "metadata": {
        "colab": {
          "base_uri": "https://localhost:8080/"
        },
        "id": "cWPwx3IUhjN3",
        "outputId": "cf9d8a87-3d21-44f5-8b09-8aa68560977f"
      },
      "execution_count": 90,
      "outputs": [
        {
          "output_type": "stream",
          "name": "stdout",
          "text": [
            "[2.56400505 1.3796189  1.06366873 1.23606781 1.23465689 1.16095056\n",
            " 1.53607887 1.07012088 1.07092013 1.1008853  1.33443006 1.07357144\n",
            " 1.27336194 1.24474214 1.08950639 1.65761639 1.19437391 1.16686846\n",
            " 1.10197948 1.37760467 1.5514217  1.06595903 1.61447789 1.0734606\n",
            " 1.01392454 1.20795573 1.67032428 1.07426008 1.33734092 3.2707133\n",
            " 1.23559923 1.89898283 1.31514347 1.10308775 1.01239416 1.30929443\n",
            " 2.23526424 2.19770318 1.46987041 1.15466832 1.15790224 1.48689927\n",
            " 1.20913061 2.35383489 3.328964   1.1306636  2.73581238 1.04619785\n",
            " 1.54342258 1.11675853 1.45309039 1.67067348 1.062451   1.09524848\n",
            " 4.76900325 2.78387001 3.48034759 1.69728326 1.04142115 1.3934564\n",
            " 1.13884958 1.60878706 2.54895413 2.8632117  1.31749061 1.3260854\n",
            " 1.40773862 1.23350306 1.43384803 1.04588978 1.75391882 1.628145\n",
            " 1.00651926 1.05217437 1.24557769 1.17573757 1.10129396 1.10920507\n",
            " 1.22667332 1.70989382 1.05652545 1.36274412 1.39881859 1.30797964\n",
            " 1.00985419 3.129981   1.02832748 1.02761668 1.1618791  1.03925289\n",
            " 1.34042598 3.70711254 1.00851284 1.01202542 1.00147357 1.25047908\n",
            " 2.37678271 1.49558431 2.03903961 1.35384236]\n"
          ]
        }
      ]
    },
    {
      "cell_type": "code",
      "source": [
        "S = 0\n",
        "for i in sample:\n",
        "  S += np.log(i)\n",
        "Teta = (n/S)+1\n",
        "print(Teta)"
      ],
      "metadata": {
        "colab": {
          "base_uri": "https://localhost:8080/"
        },
        "id": "Tg7XJfEehslb",
        "outputId": "435de0cf-50b4-44e5-ae6a-6a0b7dbbadaf"
      },
      "execution_count": 91,
      "outputs": [
        {
          "output_type": "stream",
          "name": "stdout",
          "text": [
            "3.858837446234064\n"
          ]
        }
      ]
    },
    {
      "cell_type": "code",
      "source": [
        "a = -1.96*(((2**(1/(Teta-1)))*np.log(2))/((Teta-1)*(n**(1/2))))+2**(1/(Teta-1))\n",
        "b = 1.96*(((2**(1/(Teta-1)))*np.log(2))/((Teta-1)*(n**(1/2))))+2**(1/(Teta-1))\n",
        "L_confidence_interval_for_mediana = b-a\n",
        "print(f\"confidence_interval_for_mediana ({a},{b})\")"
      ],
      "metadata": {
        "colab": {
          "base_uri": "https://localhost:8080/"
        },
        "id": "0NB_kGPyhpzt",
        "outputId": "0991aaaf-4a6c-461a-bbd1-675993a48dda"
      },
      "execution_count": 106,
      "outputs": [
        {
          "output_type": "stream",
          "name": "stdout",
          "text": [
            "confidence_interval_for_mediana (1.2028647492953064,1.31697735049444)\n"
          ]
        }
      ]
    },
    {
      "cell_type": "code",
      "source": [
        "a = -1.96*((Teta-1)/(n**(1/2)))+Teta\n",
        "b = 1.96*((Teta-1)/(n**(1/2)))+Teta\n",
        "L_confidence_interval_for_param = b-a\n",
        "print(f\"confidence_interval_for_param ({a},{b})\")\n"
      ],
      "metadata": {
        "colab": {
          "base_uri": "https://localhost:8080/"
        },
        "id": "e3BzAYHrhm_z",
        "outputId": "45fe2404-8a07-434a-864b-7ad997459561"
      },
      "execution_count": 107,
      "outputs": [
        {
          "output_type": "stream",
          "name": "stdout",
          "text": [
            "confidence_interval_for_param (3.412,4.588)\n"
          ]
        }
      ]
    },
    {
      "cell_type": "code",
      "source": [
        "N = 10000\n",
        "Teta = 4\n",
        "all_samples = []\n",
        "all_tetas = []\n",
        "for _ in range(N):\n",
        "  etta = np.random.uniform(0,1,n)\n",
        "  sample_ = (1-etta)**(1/(1-Teta))\n",
        "  all_samples.append(sample_)\n",
        "  S = 0\n",
        "  for i in sample_:\n",
        "    S += np.log(i)\n",
        "    teta_ = (n/S)+1\n",
        "  all_tetas.append(teta_)\n",
        "all_samples = np.array(all_samples)\n",
        "all_tetas = np.array(all_tetas)\n",
        "print(all_samples)\n",
        "print(all_samples.shape)\n"
      ],
      "metadata": {
        "colab": {
          "base_uri": "https://localhost:8080/"
        },
        "id": "hJZkxCrXhu0w",
        "outputId": "a80ebf47-1861-4cc6-97c6-1ab8352567ad"
      },
      "execution_count": 108,
      "outputs": [
        {
          "output_type": "stream",
          "name": "stdout",
          "text": [
            "[[1.12946855 1.12690528 1.14164189 ... 1.07828943 2.10467302 1.22228372]\n",
            " [1.14048677 1.00958929 1.19773887 ... 1.0104132  1.84907224 1.96755535]\n",
            " [1.07602499 1.61499067 1.73383599 ... 1.38820123 1.09406972 1.09857074]\n",
            " ...\n",
            " [1.03503851 1.69998365 1.12111363 ... 1.01252242 1.14379064 1.12307554]\n",
            " [1.04952247 1.01146376 1.15988616 ... 5.15772632 1.0052478  1.09860471]\n",
            " [1.45786284 1.05469219 1.72464997 ... 1.4486886  1.12484726 3.21345795]]\n",
            "(10000, 100)\n"
          ]
        }
      ]
    },
    {
      "cell_type": "code",
      "source": [
        "print(all_tetas)\n",
        "print(all_tetas.shape)"
      ],
      "metadata": {
        "colab": {
          "base_uri": "https://localhost:8080/"
        },
        "id": "pzeZsHXahxLz",
        "outputId": "fc0ac7c3-fd2f-4ca4-8289-92800e2afa6e"
      },
      "execution_count": 109,
      "outputs": [
        {
          "output_type": "stream",
          "name": "stdout",
          "text": [
            "[3.70262231 3.55037174 3.9828727  ... 4.59260163 3.9597637  3.94281083]\n",
            "(10000,)\n"
          ]
        }
      ]
    },
    {
      "cell_type": "code",
      "source": [
        "all_tetas.sort()\n",
        "all_tetas"
      ],
      "metadata": {
        "colab": {
          "base_uri": "https://localhost:8080/"
        },
        "id": "rgVnh0ljtf21",
        "outputId": "b736e465-2473-4054-c439-caccd0a7c3f6"
      },
      "execution_count": 110,
      "outputs": [
        {
          "output_type": "execute_result",
          "data": {
            "text/plain": [
              "array([3.06897197, 3.09009133, 3.11639193, ..., 5.37897687, 5.44071871,\n",
              "       5.5536225 ])"
            ]
          },
          "metadata": {},
          "execution_count": 110
        }
      ]
    },
    {
      "cell_type": "code",
      "source": [
        "K1 = int(N*(1-B)/2)\n",
        "K2 = int(N*(1+B)/2)\n",
        "parametric_bootstrap_interval = (all_tetas[K1], all_tetas[K2])\n",
        "L_parametric_bootstrap_interval = all_tetas[K2]-all_tetas[K1]\n",
        "parametric_bootstrap_interval"
      ],
      "metadata": {
        "colab": {
          "base_uri": "https://localhost:8080/"
        },
        "id": "hSMLxo67tr6Z",
        "outputId": "118d1dbc-f613-463d-cb9a-ac6744ea3809"
      },
      "execution_count": 111,
      "outputs": [
        {
          "output_type": "execute_result",
          "data": {
            "text/plain": [
              "(3.480878896132415, 4.704638632679297)"
            ]
          },
          "metadata": {},
          "execution_count": 111
        }
      ]
    },
    {
      "cell_type": "code",
      "source": [
        "L_min_interval = min(L_confidence_interval_for_mediana, L_confidence_interval_for_param, L_parametric_bootstrap_interval)\n",
        "L_max_interval = max(L_confidence_interval_for_mediana, L_confidence_interval_for_param, L_parametric_bootstrap_interval)\n",
        "print(f\"Длина доверительного интервала для медианы: {L_confidence_interval_for_mediana},\\n Длина доверительного интервала для параметра: {L_confidence_interval_for_param},\\n \"\n",
        "f\"Длина бутстраповского доверительного интервала: {L_parametric_bootstrap_interval},\\n Макс. длина интервала: {L_max_interval},\\n Мин. длина интервала: {L_min_interval}.\\n\")"
      ],
      "metadata": {
        "colab": {
          "base_uri": "https://localhost:8080/"
        },
        "id": "QNTXd1gqug18",
        "outputId": "95f1d3dd-ca85-461f-aa91-6504560b3d35"
      },
      "execution_count": 114,
      "outputs": [
        {
          "output_type": "stream",
          "name": "stdout",
          "text": [
            "Длина доверительного интервала для медианы: 0.11411260119913358,\n",
            " Длина доверительного интервала для параметра: 1.1760000000000002,\n",
            " Длина бутстраповского доверительного интервала: 1.2237597365468815,\n",
            " Макс. длина интервала: 1.2237597365468815,\n",
            " Мин. длина интервала: 0.11411260119913358.\n",
            "\n"
          ]
        }
      ]
    },
    {
      "cell_type": "code",
      "source": [],
      "metadata": {
        "id": "IueyapKK-3hf",
        "colab": {
          "base_uri": "https://localhost:8080/"
        },
        "outputId": "38ebd097-4916-4e75-c75a-d7288912c7a3"
      },
      "execution_count": 113,
      "outputs": [
        {
          "output_type": "execute_result",
          "data": {
            "text/plain": [
              "0.6931471805599453"
            ]
          },
          "metadata": {},
          "execution_count": 113
        }
      ]
    },
    {
      "cell_type": "code",
      "source": [],
      "metadata": {
        "id": "oPRU2iplhN5F"
      },
      "execution_count": null,
      "outputs": []
    }
  ]
}